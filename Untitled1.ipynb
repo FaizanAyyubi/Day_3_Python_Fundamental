{
 "cells": [
  {
   "cell_type": "code",
   "execution_count": 9,
   "id": "30a57a31",
   "metadata": {},
   "outputs": [
    {
     "name": "stdout",
     "output_type": "stream",
     "text": [
      "mohd faizan\n"
     ]
    }
   ],
   "source": [
    "full_name=\"mohd faizan\"\n",
    "print(full_name)"
   ]
  },
  {
   "cell_type": "code",
   "execution_count": 10,
   "id": "a65ede55",
   "metadata": {},
   "outputs": [
    {
     "name": "stdout",
     "output_type": "stream",
     "text": [
      "Mohd Faizan\n"
     ]
    }
   ],
   "source": [
    "print (full_name. title())"
   ]
  },
  {
   "cell_type": "code",
   "execution_count": 11,
   "id": "2f5dad02",
   "metadata": {},
   "outputs": [
    {
     "name": "stdout",
     "output_type": "stream",
     "text": [
      "MOHD FAIZAN\n"
     ]
    }
   ],
   "source": [
    "print(full_name. upper())"
   ]
  },
  {
   "cell_type": "code",
   "execution_count": 12,
   "id": "55c8b769",
   "metadata": {},
   "outputs": [
    {
     "name": "stdout",
     "output_type": "stream",
     "text": [
      "mohd faizan\n"
     ]
    }
   ],
   "source": [
    "print(full_name.lower())"
   ]
  },
  {
   "cell_type": "code",
   "execution_count": 15,
   "id": "c73e3b80",
   "metadata": {},
   "outputs": [
    {
     "ename": "NameError",
     "evalue": "name 'first_name' is not defined",
     "output_type": "error",
     "traceback": [
      "\u001b[1;31m---------------------------------------------------------------------------\u001b[0m",
      "\u001b[1;31mNameError\u001b[0m                                 Traceback (most recent call last)",
      "Input \u001b[1;32mIn [15]\u001b[0m, in \u001b[0;36m<cell line: 1>\u001b[1;34m()\u001b[0m\n\u001b[1;32m----> 1\u001b[0m full_name\u001b[38;5;241m=\u001b[39m\u001b[38;5;124mf\u001b[39m\u001b[38;5;124m\"\u001b[39m\u001b[38;5;132;01m{\u001b[39;00mfirst_name\u001b[38;5;132;01m}\u001b[39;00m\u001b[38;5;124m \u001b[39m\u001b[38;5;132;01m{\u001b[39;00mlast_name\u001b[38;5;132;01m}\u001b[39;00m\u001b[38;5;124m\"\u001b[39m\n\u001b[0;32m      2\u001b[0m \u001b[38;5;28mprint\u001b[39m(full_name)\n",
      "\u001b[1;31mNameError\u001b[0m: name 'first_name' is not defined"
     ]
    }
   ],
   "source": [
    "\n"
   ]
  },
  {
   "cell_type": "code",
   "execution_count": 23,
   "id": "3d1d79a5",
   "metadata": {},
   "outputs": [],
   "source": [
    "# i want to get the full name....?"
   ]
  },
  {
   "cell_type": "code",
   "execution_count": 22,
   "id": "da278e30",
   "metadata": {},
   "outputs": [
    {
     "name": "stdout",
     "output_type": "stream",
     "text": [
      "mohd faizan\n"
     ]
    }
   ],
   "source": [
    "first_name ='mohd'\n",
    "last_name ='faizan'\n"
   ]
  },
  {
   "cell_type": "code",
   "execution_count": 24,
   "id": "3d9a550a",
   "metadata": {},
   "outputs": [
    {
     "name": "stdout",
     "output_type": "stream",
     "text": [
      "mohd faizan\n"
     ]
    }
   ],
   "source": [
    "full_name =f\"{first_name} {last_name}\"\n",
    "print(full_name)"
   ]
  },
  {
   "cell_type": "code",
   "execution_count": 25,
   "id": "65185d4e",
   "metadata": {},
   "outputs": [
    {
     "name": "stdout",
     "output_type": "stream",
     "text": [
      "keep up the good work,mohd faizan\n"
     ]
    }
   ],
   "source": [
    "message=f\"keep up the good work,{full_name}\"\n",
    "print(message)"
   ]
  },
  {
   "cell_type": "code",
   "execution_count": 27,
   "id": "d68ed07e",
   "metadata": {},
   "outputs": [
    {
     "name": "stdout",
     "output_type": "stream",
     "text": [
      "keep up the good work,Mohd Faizan\n"
     ]
    }
   ],
   "source": [
    "message=f\"keep up the good work,{full_name.title()}\"\n",
    "\n",
    "print(message)"
   ]
  },
  {
   "cell_type": "code",
   "execution_count": null,
   "id": "d10299e7",
   "metadata": {},
   "outputs": [],
   "source": [
    "# white spaces\n"
   ]
  },
  {
   "cell_type": "code",
   "execution_count": 28,
   "id": "ed26cda5",
   "metadata": {},
   "outputs": [
    {
     "name": "stdout",
     "output_type": "stream",
     "text": [
      "favourite_programming_languagepytonjavahtmlc++c\n"
     ]
    }
   ],
   "source": [
    "print(\"favourite_programming_languagepytonjavahtmlc++c\")"
   ]
  },
  {
   "cell_type": "code",
   "execution_count": 30,
   "id": "71205431",
   "metadata": {},
   "outputs": [
    {
     "name": "stdout",
     "output_type": "stream",
     "text": [
      "favourite_programming_language:\n",
      "pyton\n",
      "java\n",
      "html\n",
      "c++\n",
      "c\n"
     ]
    }
   ],
   "source": [
    "print(\"favourite_programming_language:\\npyton\\njava\\nhtml\\nc++\\nc\")"
   ]
  },
  {
   "cell_type": "code",
   "execution_count": 31,
   "id": "a8d4497b",
   "metadata": {},
   "outputs": [
    {
     "name": "stdout",
     "output_type": "stream",
     "text": [
      "favourite_programming_language:\n",
      "\tpyton\n",
      "\tjava\n",
      "\thtml\n",
      "\tc++\n",
      "\tc\n"
     ]
    }
   ],
   "source": [
    "print(\"favourite_programming_language:\\n\\tpyton\\n\\tjava\\n\\thtml\\n\\tc++\\n\\tc\")"
   ]
  },
  {
   "cell_type": "code",
   "execution_count": null,
   "id": "9d9d8596",
   "metadata": {},
   "outputs": [],
   "source": []
  }
 ],
 "metadata": {
  "kernelspec": {
   "display_name": "Python 3 (ipykernel)",
   "language": "python",
   "name": "python3"
  },
  "language_info": {
   "codemirror_mode": {
    "name": "ipython",
    "version": 3
   },
   "file_extension": ".py",
   "mimetype": "text/x-python",
   "name": "python",
   "nbconvert_exporter": "python",
   "pygments_lexer": "ipython3",
   "version": "3.9.12"
  }
 },
 "nbformat": 4,
 "nbformat_minor": 5
}
